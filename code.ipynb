{
 "cells": [
  {
   "cell_type": "code",
   "execution_count": 1,
   "id": "a57f44ae",
   "metadata": {},
   "outputs": [
    {
     "name": "stdout",
     "output_type": "stream",
     "text": [
      "Requirement already satisfied: pywhatkit in c:\\users\\jmara\\anaconda3\\lib\\site-packages (5.4)\n",
      "Requirement already satisfied: Pillow in c:\\users\\jmara\\anaconda3\\lib\\site-packages (from pywhatkit) (9.2.0)\n",
      "Requirement already satisfied: requests in c:\\users\\jmara\\anaconda3\\lib\\site-packages (from pywhatkit) (2.31.0)\n",
      "Requirement already satisfied: Flask in c:\\users\\jmara\\anaconda3\\lib\\site-packages (from pywhatkit) (1.1.2)\n",
      "Requirement already satisfied: wikipedia in c:\\users\\jmara\\anaconda3\\lib\\site-packages (from pywhatkit) (1.4.0)\n",
      "Requirement already satisfied: pyautogui in c:\\users\\jmara\\anaconda3\\lib\\site-packages (from pywhatkit) (0.9.54)\n",
      "Requirement already satisfied: Jinja2>=2.10.1 in c:\\users\\jmara\\anaconda3\\lib\\site-packages (from Flask->pywhatkit) (2.11.3)\n",
      "Requirement already satisfied: Werkzeug>=0.15 in c:\\users\\jmara\\anaconda3\\lib\\site-packages (from Flask->pywhatkit) (2.0.3)\n",
      "Requirement already satisfied: itsdangerous>=0.24 in c:\\users\\jmara\\anaconda3\\lib\\site-packages (from Flask->pywhatkit) (2.0.1)\n",
      "Requirement already satisfied: click>=5.1 in c:\\users\\jmara\\anaconda3\\lib\\site-packages (from Flask->pywhatkit) (8.0.4)\n",
      "Requirement already satisfied: pygetwindow>=0.0.5 in c:\\users\\jmara\\anaconda3\\lib\\site-packages (from pyautogui->pywhatkit) (0.0.9)\n",
      "Requirement already satisfied: mouseinfo in c:\\users\\jmara\\anaconda3\\lib\\site-packages (from pyautogui->pywhatkit) (0.1.3)\n",
      "Requirement already satisfied: pyscreeze>=0.1.21 in c:\\users\\jmara\\anaconda3\\lib\\site-packages (from pyautogui->pywhatkit) (0.1.30)\n",
      "Requirement already satisfied: pytweening>=1.0.4 in c:\\users\\jmara\\anaconda3\\lib\\site-packages (from pyautogui->pywhatkit) (1.0.7)\n",
      "Requirement already satisfied: pymsgbox in c:\\users\\jmara\\anaconda3\\lib\\site-packages (from pyautogui->pywhatkit) (1.0.9)\n",
      "Requirement already satisfied: certifi>=2017.4.17 in c:\\users\\jmara\\anaconda3\\lib\\site-packages (from requests->pywhatkit) (2022.9.14)\n",
      "Requirement already satisfied: urllib3<3,>=1.21.1 in c:\\users\\jmara\\anaconda3\\lib\\site-packages (from requests->pywhatkit) (1.26.11)\n",
      "Requirement already satisfied: charset-normalizer<4,>=2 in c:\\users\\jmara\\anaconda3\\lib\\site-packages (from requests->pywhatkit) (2.0.4)\n",
      "Requirement already satisfied: idna<4,>=2.5 in c:\\users\\jmara\\anaconda3\\lib\\site-packages (from requests->pywhatkit) (3.3)\n",
      "Requirement already satisfied: beautifulsoup4 in c:\\users\\jmara\\anaconda3\\lib\\site-packages (from wikipedia->pywhatkit) (4.11.1)\n",
      "Requirement already satisfied: colorama in c:\\users\\jmara\\anaconda3\\lib\\site-packages (from click>=5.1->Flask->pywhatkit) (0.4.5)\n",
      "Requirement already satisfied: MarkupSafe>=0.23 in c:\\users\\jmara\\anaconda3\\lib\\site-packages (from Jinja2>=2.10.1->Flask->pywhatkit) (2.0.1)\n",
      "Requirement already satisfied: pyrect in c:\\users\\jmara\\anaconda3\\lib\\site-packages (from pygetwindow>=0.0.5->pyautogui->pywhatkit) (0.2.0)\n",
      "Requirement already satisfied: soupsieve>1.2 in c:\\users\\jmara\\anaconda3\\lib\\site-packages (from beautifulsoup4->wikipedia->pywhatkit) (2.3.1)\n",
      "Requirement already satisfied: pyperclip in c:\\users\\jmara\\anaconda3\\lib\\site-packages (from mouseinfo->pyautogui->pywhatkit) (1.8.2)\n"
     ]
    }
   ],
   "source": [
    "! pip install pywhatkit"
   ]
  },
  {
   "cell_type": "code",
   "execution_count": 4,
   "id": "1824c66d",
   "metadata": {},
   "outputs": [
    {
     "name": "stdout",
     "output_type": "stream",
     "text": [
      "       Name       Phone\n",
      "0  jyotiba   8217051372\n",
      "1   Ramesh   8884346491\n",
      "In 24 Seconds WhatsApp will open and after 15 Seconds Message will be Delivered!\n",
      "Message Sent!\n",
      "In 28 Seconds WhatsApp will open and after 15 Seconds Message will be Delivered!\n",
      "Message Sent!\n"
     ]
    }
   ],
   "source": [
    "import pywhatkit as pwk\n",
    "import pandas as pd\n",
    "from datetime import datetime\n",
    "\n",
    "'''Getting Time(Hour & Minute)'''\n",
    "# Get the current date and time\n",
    "current_time = datetime.now()\n",
    "\n",
    "# Extract hour and minute\n",
    "hour = current_time.hour\n",
    "minute = current_time.minute\n",
    "\n",
    "\n",
    "'''Reading Data From Dataset (Excel), using Pandas'''\n",
    "data = pd.read_excel(\"contract_details.xlsx\")\n",
    "print(data) #data from dataset\n",
    "mylist = list(data.loc[:,\"Phone\"])\n",
    "\n",
    "count = 1;\n",
    "for i in mylist:\n",
    "    # using Exception Handling to avoid unexpected errors \n",
    "    try:\n",
    "        # Send a Message to 'i'th phone in dataframe \n",
    "        pwk.sendwhatmsg(\"+91\"+str(i), \"Hi, how are you?\", hour,minute+count)\n",
    "        count+=1\n",
    "        # Send an Image to a Contact with the no Caption\n",
    "        pwk.sendwhats_image(\"+91\"+str(i), \"hello.jpeg\")\n",
    "        print(\"Message Sent!\") #Prints success message in console\n",
    "        \n",
    "    # error message\n",
    "    except:\n",
    "        print(\"Error in sending the message\")  "
   ]
  },
  {
   "cell_type": "code",
   "execution_count": null,
   "id": "c9a2fbc5",
   "metadata": {},
   "outputs": [],
   "source": []
  },
  {
   "cell_type": "code",
   "execution_count": null,
   "id": "fdd46435",
   "metadata": {},
   "outputs": [],
   "source": []
  },
  {
   "cell_type": "code",
   "execution_count": null,
   "id": "c7e1437f",
   "metadata": {},
   "outputs": [],
   "source": []
  }
 ],
 "metadata": {
  "kernelspec": {
   "display_name": "Python 3 (ipykernel)",
   "language": "python",
   "name": "python3"
  },
  "language_info": {
   "codemirror_mode": {
    "name": "ipython",
    "version": 3
   },
   "file_extension": ".py",
   "mimetype": "text/x-python",
   "name": "python",
   "nbconvert_exporter": "python",
   "pygments_lexer": "ipython3",
   "version": "3.9.13"
  }
 },
 "nbformat": 4,
 "nbformat_minor": 5
}
